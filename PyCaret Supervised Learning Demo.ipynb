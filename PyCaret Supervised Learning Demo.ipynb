{
 "cells": [
  {
   "cell_type": "code",
   "execution_count": null,
   "id": "b088fdd7",
   "metadata": {},
   "outputs": [],
   "source": [
    "# pycaret demo - regression"
   ]
  },
  {
   "cell_type": "markdown",
   "id": "c11513da",
   "metadata": {},
   "source": [
    "using the insurance dataset, this demo covers some steps used to perform regression analysis using pycaret. prior to running the notebook, ensure you have the followng packes installed.\n",
    "\n",
    "the relevant packages are:\n",
    "- Pandas\n",
    "- Numpy\n",
    "- Matplotlib\n",
    "- Seaborn\n",
    "- PyCaret\n",
    "- MLFlow\n",
    "- PyCaret[Analysis]\n",
    "\n"
   ]
  },
  {
   "cell_type": "code",
   "execution_count": null,
   "id": "1e0915c9",
   "metadata": {},
   "outputs": [],
   "source": [
    "### Importing packages and dataset"
   ]
  },
  {
   "cell_type": "code",
   "execution_count": null,
   "id": "e51475ce",
   "metadata": {},
   "outputs": [],
   "source": [
    "# import packages\n",
    "import pandas as pd\n",
    "import numpy as np\n",
    "import seaborn as sns\n",
    "import matplotlib.pyplot as plt\n",
    "%matplotlib inline\n",
    "\n",
    "#Pycaret\n",
    "import pycaret\n",
    "import mlflow\n",
    "from pycaret.utils import version\n",
    "from pycaret.regression import *\n",
    "\n",
    "#mlflow\n",
    "# in your web browser, please copy and past the uri into a separate window: http://localhost:5000\n",
    "# you can see your experiment(s) after the code is complete\n",
    "\n",
    "mlflow.set_tracking_uri(\"http://localhost:5000\")"
   ]
  },
  {
   "cell_type": "code",
   "execution_count": null,
   "id": "731c29e6",
   "metadata": {},
   "outputs": [],
   "source": [
    "# import dataset\n",
    "from pycaret.datasets import get_data\n",
    "data = get_data('insurance')"
   ]
  },
  {
   "cell_type": "code",
   "execution_count": null,
   "id": "f58ee3c6",
   "metadata": {},
   "outputs": [],
   "source": [
    "### check out dataset"
   ]
  },
  {
   "cell_type": "code",
   "execution_count": null,
   "id": "50caf39b",
   "metadata": {},
   "outputs": [],
   "source": [
    "# review data\n",
    "data.info()"
   ]
  },
  {
   "cell_type": "code",
   "execution_count": null,
   "id": "f7b3f7ef",
   "metadata": {},
   "outputs": [],
   "source": [
    "# check for null values\n",
    "data.isnull().values.sum()"
   ]
  },
  {
   "cell_type": "code",
   "execution_count": null,
   "id": "e2912dca",
   "metadata": {},
   "outputs": [],
   "source": [
    "###Exploratory data analysis"
   ]
  },
  {
   "cell_type": "code",
   "execution_count": null,
   "id": "82beea29",
   "metadata": {},
   "outputs": [],
   "source": [
    "# summary stats\n",
    "data.describe(include ='all').T"
   ]
  },
  {
   "cell_type": "code",
   "execution_count": null,
   "id": "82a53604",
   "metadata": {},
   "outputs": [],
   "source": [
    "#splitting numerical and categorical columns to perform further analysis\n",
    "cat_cols=data.select_dtypes(include=['object']).columns\n",
    "num_cols=data.select_dtypes(include=np.number).columns.tolist()\n",
    "print(\"Categorical Variables:\")\n",
    "print(cat_cols)\n",
    "print(\"Numberical Variables:\")\n",
    "print(num_cols)"
   ]
  },
  {
   "cell_type": "code",
   "execution_count": null,
   "id": "5ca9a519",
   "metadata": {},
   "outputs": [],
   "source": [
    "#look at numerical values first\n",
    "for col in num_cols:\n",
    "    print(col)\n",
    "    print('Skew :', round(data[col].skew(), 2))\n",
    "    plt.figure(figsize = (15,4))\n",
    "    plt.subplot(1,2,1)\n",
    "    data[col].hist(grid=False)\n",
    "    plt.ylabel('count')\n",
    "    plt.subplot(1,2,2)\n",
    "    sns.boxplot(x=data[col])\n",
    "    plt.show()\n",
    "    "
   ]
  },
  {
   "cell_type": "code",
   "execution_count": null,
   "id": "df31d73f",
   "metadata": {},
   "outputs": [],
   "source": [
    "#plot categorical variables\n",
    "fig,axes = plt.subplots(1,3,figsize = (16,7))\n",
    "fig.subtitle('Bar plots for categorical variables')\n",
    "\n",
    "sns.countplot(ax=axes[0], data=data, x=\"sex\", order=data['sex'].value_counts().index);\n",
    "sns.countplot(ax=axes[1], data=data, x=\"smoker\", order=data['smoker'].value_counts().index);\n",
    "sns.countplot(ax=axes[2], data=data, x=\"region\", order=data['region'].value_counts().index);\n"
   ]
  },
  {
   "cell_type": "code",
   "execution_count": null,
   "id": "1238b7ee",
   "metadata": {},
   "outputs": [],
   "source": [
    "### setting up the regression"
   ]
  },
  {
   "cell_type": "code",
   "execution_count": null,
   "id": "d0bd3bce",
   "metadata": {},
   "outputs": [],
   "source": [
    "# regression setup\n",
    "reg_insurance = setup(data = data, target = 'charges', session_id=123, log_experiment = True, experiment_name ='insurance1')\n"
   ]
  },
  {
   "cell_type": "code",
   "execution_count": null,
   "id": "cb54a1d2",
   "metadata": {},
   "outputs": [],
   "source": [
    "get_config('dataset_transformed') # this is to look at our transformed data, if needed"
   ]
  },
  {
   "cell_type": "code",
   "execution_count": null,
   "id": "77d4d28e",
   "metadata": {},
   "outputs": [],
   "source": [
    "### compare baseline"
   ]
  },
  {
   "cell_type": "code",
   "execution_count": null,
   "id": "e6fdfabf",
   "metadata": {},
   "outputs": [],
   "source": [
    "# return best model\n",
    "best = compare_models(fold = 5)\n"
   ]
  },
  {
   "cell_type": "code",
   "execution_count": null,
   "id": "4da1570a",
   "metadata": {},
   "outputs": [],
   "source": [
    "best # this is the best model from the list"
   ]
  },
  {
   "cell_type": "code",
   "execution_count": null,
   "id": "4c680496",
   "metadata": {},
   "outputs": [],
   "source": [
    "# get parameters of best model\n",
    "best.get_params()"
   ]
  },
  {
   "cell_type": "code",
   "execution_count": null,
   "id": "c15b6fe8",
   "metadata": {},
   "outputs": [],
   "source": [
    "### hyperparameter tuning"
   ]
  },
  {
   "cell_type": "code",
   "execution_count": null,
   "id": "71ffbcf3",
   "metadata": {},
   "outputs": [],
   "source": [
    "# tuning the best model\n",
    "tune_model(best, fold=5, n_iter=10,optimize='MAE')"
   ]
  },
  {
   "cell_type": "code",
   "execution_count": null,
   "id": "d1911265",
   "metadata": {},
   "outputs": [],
   "source": [
    "### blending models"
   ]
  },
  {
   "cell_type": "code",
   "execution_count": null,
   "id": "48dee086",
   "metadata": {},
   "outputs": [],
   "source": [
    "# taking the top 3 MAE models\n",
    "best_mae_3 = compare_models(sort = 'MAE', n_select = 3, fold = 5)"
   ]
  },
  {
   "cell_type": "code",
   "execution_count": null,
   "id": "d693bcb5",
   "metadata": {},
   "outputs": [],
   "source": [
    "best_mae_3"
   ]
  },
  {
   "cell_type": "code",
   "execution_count": null,
   "id": "6f8858ed",
   "metadata": {},
   "outputs": [],
   "source": [
    "# blending them together\n",
    "blend_models(best_mae_3,fold=5)"
   ]
  },
  {
   "cell_type": "code",
   "execution_count": null,
   "id": "b5dd1149",
   "metadata": {},
   "outputs": [],
   "source": [
    "### plot/evaluate the model"
   ]
  },
  {
   "cell_type": "code",
   "execution_count": null,
   "id": "78b74ab0",
   "metadata": {},
   "outputs": [],
   "source": [
    "# plotting the model\n",
    "plot_model(best)"
   ]
  },
  {
   "cell_type": "code",
   "execution_count": null,
   "id": "045d66c0",
   "metadata": {},
   "outputs": [],
   "source": [
    "# plotting the prediction error\n",
    "plot_model(best, plot = 'error')"
   ]
  },
  {
   "cell_type": "code",
   "execution_count": null,
   "id": "167ea78c",
   "metadata": {},
   "outputs": [],
   "source": [
    "# plotting the residuals\n",
    "plot_model(best,plot = 'feature')"
   ]
  },
  {
   "cell_type": "code",
   "execution_count": null,
   "id": "a8175245",
   "metadata": {},
   "outputs": [],
   "source": [
    "# evaluate model\n",
    "evaluate_model(best) # note, this contains most of the above graphs, which you access from clicking the grey boxes"
   ]
  },
  {
   "cell_type": "code",
   "execution_count": null,
   "id": "7d2497a3",
   "metadata": {},
   "outputs": [],
   "source": [
    "### model interpretation"
   ]
  },
  {
   "cell_type": "code",
   "execution_count": null,
   "id": "a17b292e",
   "metadata": {},
   "outputs": [],
   "source": [
    "# Interpret Model - note, this only supports tree-based models. so using xgboost as an example\n",
    "xgboost = create_model('xgboost', fold=5,n_iter=10)\n",
    "interpet_model(xgboost)"
   ]
  },
  {
   "cell_type": "code",
   "execution_count": null,
   "id": "a3701b93",
   "metadata": {},
   "outputs": [],
   "source": [
    "interpret_model(xgboost,plot='correlation')"
   ]
  },
  {
   "cell_type": "code",
   "execution_count": null,
   "id": "b03eeddb",
   "metadata": {},
   "outputs": [],
   "source": [
    "interpret_model(xgboost, plot='reason',observation=12)"
   ]
  },
  {
   "cell_type": "code",
   "execution_count": null,
   "id": "5200b60d",
   "metadata": {},
   "outputs": [],
   "source": [
    "### Saving/Load Model"
   ]
  },
  {
   "cell_type": "code",
   "execution_count": null,
   "id": "a835c239",
   "metadata": {},
   "outputs": [],
   "source": [
    "# saving model\n",
    "save_model(best, model_name = 'best-model')"
   ]
  },
  {
   "cell_type": "code",
   "execution_count": null,
   "id": "8d0db92b",
   "metadata": {},
   "outputs": [],
   "source": [
    "# loading model\n",
    "loaded_bestmodel = load_model('best-model')\n",
    "print(loaded_bestmodel)"
   ]
  },
  {
   "cell_type": "code",
   "execution_count": null,
   "id": "0d5fcdd0",
   "metadata": {},
   "outputs": [],
   "source": [
    "### predictions"
   ]
  },
  {
   "cell_type": "code",
   "execution_count": null,
   "id": "04cd99fa",
   "metadata": {},
   "outputs": [],
   "source": [
    "# predict on holdout\n",
    "predict_model(best)"
   ]
  },
  {
   "cell_type": "code",
   "execution_count": null,
   "id": "f4fc4ced",
   "metadata": {},
   "outputs": [],
   "source": [
    "# copy data and remove target variable for predicting\n",
    "data_unseen = data.copy()\n",
    "data_unseen.drop('charges', axis=1, inplace = True)\n",
    "\n",
    "predict_model(best, data = data_unseen)"
   ]
  },
  {
   "cell_type": "code",
   "execution_count": null,
   "id": "5bfa5c6e",
   "metadata": {},
   "outputs": [],
   "source": [
    "# finalize the model\n",
    "finalize_model(best)"
   ]
  },
  {
   "cell_type": "code",
   "execution_count": null,
   "id": "0b0e8630",
   "metadata": {},
   "outputs": [],
   "source": [
    "mlflow.end_run()"
   ]
  },
  {
   "cell_type": "code",
   "execution_count": null,
   "id": "d8a11b26",
   "metadata": {},
   "outputs": [],
   "source": [
    "### Interactive Dashboard"
   ]
  },
  {
   "cell_type": "code",
   "execution_count": null,
   "id": "0bb3c36a",
   "metadata": {},
   "outputs": [],
   "source": [
    "# creating interactive dashboard for trained model\n",
    "dashboard(best)"
   ]
  },
  {
   "cell_type": "markdown",
   "id": "5634fcb2",
   "metadata": {},
   "source": [
    "when the above runs, it shows a link which you can click to open up the dashboard in a new window. the cell will continuously run unless you stop it."
   ]
  }
 ],
 "metadata": {
  "kernelspec": {
   "display_name": "Python 3 (ipykernel)",
   "language": "python",
   "name": "python3"
  },
  "language_info": {
   "codemirror_mode": {
    "name": "ipython",
    "version": 3
   },
   "file_extension": ".py",
   "mimetype": "text/x-python",
   "name": "python",
   "nbconvert_exporter": "python",
   "pygments_lexer": "ipython3",
   "version": "3.11.5"
  }
 },
 "nbformat": 4,
 "nbformat_minor": 5
}
