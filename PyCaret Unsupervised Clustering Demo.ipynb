{
 "cells": [
  {
   "cell_type": "markdown",
   "id": "a4aa325f",
   "metadata": {},
   "source": [
    "# PyCaret Demo - Clustering"
   ]
  },
  {
   "cell_type": "markdown",
   "id": "0d7c3ca1",
   "metadata": {},
   "source": [
    "using the jewellery dataset, this demo covers some steps used to perform clustering analysis using pycaret. prior to running the notebook, ensure you have the followng packes installed.\n",
    "\n",
    "the relevant packages are:\n",
    "- Pandas\n",
    "- Numpy\n",
    "- Matplotlib\n",
    "- Seaborn\n",
    "- PyCaret\n",
    "- MLFlow\n",
    "- Sklearn\n",
    "- Scipy\n",
    "- PyCaret[Analysis]"
   ]
  },
  {
   "cell_type": "code",
   "execution_count": null,
   "id": "08dfb7fb",
   "metadata": {},
   "outputs": [],
   "source": [
    "# import packages\n",
    "\n",
    "import pandas as pd\n",
    "import numpy as np\n",
    "import seaborn as sns\n",
    "import matplotlib.pyplot at plt\n",
    "%matplotlib inline\n",
    "\n",
    "# for pycaret\n",
    "import pycaret\n",
    "from pycaret.utils import version\n",
    "from pycaret.clustering import *"
   ]
  },
  {
   "cell_type": "code",
   "execution_count": null,
   "id": "297206be",
   "metadata": {},
   "outputs": [],
   "source": [
    "# import dataset to be used\n",
    "from pycaret.datasets import get_data\n",
    "dataset = get_data('jewellery')"
   ]
  },
  {
   "cell_type": "code",
   "execution_count": null,
   "id": "58e91aee",
   "metadata": {},
   "outputs": [],
   "source": [
    "### check out the dataset"
   ]
  },
  {
   "cell_type": "code",
   "execution_count": null,
   "id": "f2c3923e",
   "metadata": {},
   "outputs": [],
   "source": [
    "# review dataset info\n",
    "dataset.info()"
   ]
  },
  {
   "cell_type": "code",
   "execution_count": null,
   "id": "81a7987e",
   "metadata": {},
   "outputs": [],
   "source": [
    "# check for null values\n",
    "dataset.isnull().values.sum()"
   ]
  },
  {
   "cell_type": "code",
   "execution_count": null,
   "id": "abe339f6",
   "metadata": {},
   "outputs": [],
   "source": [
    "### exploratory data analysis"
   ]
  },
  {
   "cell_type": "code",
   "execution_count": null,
   "id": "8cdc059f",
   "metadata": {},
   "outputs": [],
   "source": [
    "#check the summary stats\n",
    "dataset.describe(include='all').T"
   ]
  },
  {
   "cell_type": "code",
   "execution_count": null,
   "id": "5895c60b",
   "metadata": {},
   "outputs": [],
   "source": [
    "# performing further exploratory data analysis on our numeric columns\n",
    "num_cols = dataset.select_dtypes(include=np.number).columns.tolist()\n",
    "print(\"Numerical Variables:\")\n",
    "print(num_cols)"
   ]
  },
  {
   "cell_type": "code",
   "execution_count": null,
   "id": "55dcd3dd",
   "metadata": {},
   "outputs": [],
   "source": [
    "#create histograms and boxplots for numerical values\n",
    "\n",
    "for col in num_cols:\n",
    "    print(col)\n",
    "    plt.figure(figsize = (15,4))\n",
    "    plt.subplot(1,2,1)\n",
    "    dataset[col].hist(grid=False)\n",
    "    plt.ylabel('count')\n",
    "    plt.subplot(1,2,2)\n",
    "    sns.boxplot(x=dataset[col])\n",
    "    plt.show()"
   ]
  },
  {
   "cell_type": "code",
   "execution_count": null,
   "id": "b3e9a011",
   "metadata": {},
   "outputs": [],
   "source": [
    "# correlation heatmap\n",
    "\n",
    "plt.figure(figsize=(5,5))\n",
    "sns.heatmap(dataset.corr().round(decimals=2), annot=True)\n",
    "plt.show()"
   ]
  },
  {
   "cell_type": "code",
   "execution_count": null,
   "id": "1067acdf",
   "metadata": {},
   "outputs": [],
   "source": [
    "### Creating Unseen Data for predictions"
   ]
  },
  {
   "cell_type": "code",
   "execution_count": null,
   "id": "c47b6d75",
   "metadata": {},
   "outputs": [],
   "source": [
    "# splitting off some data fr predictions, pretending its unseen data\n",
    "data = dataset.sample(frac = 0.95, random_state = 786).reset_index(drop=True)\n",
    "dataset_unseen = dataset.drop(data.index).reset_index(drop=True)\n",
    "\n",
    "#Split datasets below, we will use the unseen data later for predicting on \"new\" data\n",
    "print('Data for Modeling: ' + str(data.shape))\n",
    "print('Unseen Data for Predictions: '+ str(data_unseen.shape))"
   ]
  },
  {
   "cell_type": "code",
   "execution_count": null,
   "id": "ba2c1a37",
   "metadata": {},
   "outputs": [],
   "source": [
    "### Setting up the cluster model"
   ]
  },
  {
   "cell_type": "code",
   "execution_count": null,
   "id": "0c34f55b",
   "metadata": {},
   "outputs": [],
   "source": [
    "# setting up the experiment for clustering\n",
    "exp = setup(data = data, session_id = 123, preprocess = True, normalize = True)"
   ]
  },
  {
   "cell_type": "code",
   "execution_count": null,
   "id": "4d55e9b5",
   "metadata": {},
   "outputs": [],
   "source": [
    "# use this to check all of the available models\n",
    "models()\n",
    "# will use kmeans and agglomerative clustering"
   ]
  },
  {
   "cell_type": "code",
   "execution_count": null,
   "id": "1c79811e",
   "metadata": {},
   "outputs": [],
   "source": [
    "### K-Means Model"
   ]
  },
  {
   "cell_type": "code",
   "execution_count": null,
   "id": "e854b62d",
   "metadata": {},
   "outputs": [],
   "source": [
    "# Creating a k-means model\n",
    "kmeans = create_model ('kmeans')\n",
    "print(kmeans)"
   ]
  },
  {
   "cell_type": "markdown",
   "id": "bf9e649e",
   "metadata": {},
   "source": [
    "lookingat the info above, we can see the number of clusters used is 4. this is the default but you can change this specifying the number of clusters you want. the code below shows this."
   ]
  },
  {
   "cell_type": "code",
   "execution_count": null,
   "id": "c5dc3f53",
   "metadata": {},
   "outputs": [],
   "source": [
    "# Creating a k-means model with specific clusters\n",
    "kmeans_model2=create_model('kmeans', num_clusters = 3)\n",
    "print(kmeans_model2)"
   ]
  },
  {
   "cell_type": "markdown",
   "id": "1043745e",
   "metadata": {},
   "source": [
    "as we can see from the above, there were changes in the Silhouette, Calinski-Harabasz, and Davies-Bouldin scores. these score denote how well our model is fitting the data in terms of how tight the clusters are. Having a higher Silhouette (which is vounded between -1 and +1) and Calinksi scores, and lower Davies score is better. Based on the above scores, this performs worse than 4 clusters."
   ]
  },
  {
   "cell_type": "code",
   "execution_count": null,
   "id": "2d276d7d",
   "metadata": {},
   "outputs": [],
   "source": [
    "### agglomerative clustering model"
   ]
  },
  {
   "cell_type": "code",
   "execution_count": null,
   "id": "8bcf3673",
   "metadata": {},
   "outputs": [],
   "source": [
    "# the jewellery dataset is not hierarchical in nature. To demo this, using the iris dataset + sklearn + scipy\n",
    "\n",
    "# load packages\n",
    "from sklearn.datasets import load_iris\n",
    "from sklearn.cluster import AgglomerativeClustering\n",
    "\n",
    "# Load iris dataset\n",
    "iris = load_iris()\n",
    "X = iris.data\n",
    "\n",
    "# create instance of agglomerative clustering\n",
    "agg_clust = AgglomerativeClustering(n_clusters=4)\n",
    "\n",
    "#Fit model to data\n",
    "agg_clust.fit(X)\n",
    "\n",
    "#Obtain predicted cluster labels\n",
    "cluster_labels = agg_clust.labels_\n",
    "\n",
    "#print labels\n",
    "print(cluster_labels)"
   ]
  },
  {
   "cell_type": "code",
   "execution_count": null,
   "id": "086ef31c",
   "metadata": {},
   "outputs": [],
   "source": [
    "# get evaluation metrics\n",
    "from sklearn.metrics import silhouette_score, calinkski_harabasz_score\n",
    "\n",
    "silo_score = silhouette_score(X, cluster_labels)\n",
    "cali_score = calinski_harabasz_score(X, cluster_labels)\n",
    "\n",
    "print(\"Silhouette Score:\" silo_score)\n",
    "print(\"Calinski-Harabasz Score:\" cali_score)"
   ]
  },
  {
   "cell_type": "code",
   "execution_count": null,
   "id": "c1845755",
   "metadata": {},
   "outputs": [],
   "source": [
    "# building the graph\n",
    "from scipy.cluster.hierarchy import dendrogram, linkage\n",
    "\n",
    "#building linkage matrix, which stores info on the hierarchical structure of the data\n",
    "linkage_matrix - linkage(X, method = 'ward')\n",
    "\n",
    "# building the plot/graph\n",
    "plt.figure(figsize = (20,6))\n",
    "dendrogram(linkage_matrix)\n",
    "plt.title('Denodrogram')\n",
    "plt.xlabel('Samples')\n",
    "plt.ylabel('Distance')\n",
    "plt.grid(False)\n",
    "Plt.show()"
   ]
  },
  {
   "cell_type": "markdown",
   "id": "07adec07",
   "metadata": {},
   "source": [
    "Each data point is represented as leadnode, and the branches of the tree represent clusters form at different levels of the hierarchy. The height or length of the lines represent similarities/differences between clusters. Longer lines mean more dissimilarity, while shorter lines mean more similarity. Note that this graph does not tell you how many clusters you should have."
   ]
  },
  {
   "cell_type": "code",
   "execution_count": null,
   "id": "7afdcc43",
   "metadata": {},
   "outputs": [],
   "source": [
    "# from here obwards, will use kmeans for plotting/analysis"
   ]
  },
  {
   "cell_type": "code",
   "execution_count": null,
   "id": "7eb9b00b",
   "metadata": {},
   "outputs": [],
   "source": [
    "# elbow plot\n",
    "plot_model(kmeans, 'elbow')"
   ]
  },
  {
   "cell_type": "markdown",
   "id": "f02252b1",
   "metadata": {},
   "source": [
    "Interpretation of the below graph: this is a plot that helps to determine the best number of clusters (k) in a k-means clustering model. It shows the relationship between 'k' and the 'within-cluster sum of squares', which measures how compact the clusters are. the bend/curve is called the elbow point, which represents a trade-off between the low-within-cluster sum of squares and avoiding excessive complexity/overfitting. In other words its basically the optimal 'k' value where you balance cluster quality and model simplicity.\n",
    "\n",
    "Based on this, we should try 5 clusters."
   ]
  },
  {
   "cell_type": "code",
   "execution_count": null,
   "id": "b6737790",
   "metadata": {},
   "outputs": [],
   "source": [
    "### Best kmeans based on elbow"
   ]
  },
  {
   "cell_type": "code",
   "execution_count": null,
   "id": "0e4de5d6",
   "metadata": {},
   "outputs": [],
   "source": [
    "# Creating a kmeans model with 5 clusters\n",
    "kmeans_best = create_model('kmeans', num_clusters = 5)\n",
    "print(kmeans_best)"
   ]
  },
  {
   "cell_type": "code",
   "execution_count": null,
   "id": "9a01e06e",
   "metadata": {},
   "outputs": [],
   "source": [
    "### Plotting the model"
   ]
  },
  {
   "cell_type": "code",
   "execution_count": null,
   "id": "16430df1",
   "metadata": {},
   "outputs": [],
   "source": [
    "# plot the new kmeans model\n",
    "plot_model(kmeans_best, 'cluster')"
   ]
  },
  {
   "cell_type": "code",
   "execution_count": null,
   "id": "cb5dc416",
   "metadata": {},
   "outputs": [],
   "source": [
    "# Silhouette plot\n",
    "plot_model(kmeans_best, plot = 'silhouette')"
   ]
  },
  {
   "cell_type": "code",
   "execution_count": null,
   "id": "e59112b8",
   "metadata": {},
   "outputs": [],
   "source": [
    "# Distribution plot (how big are the clusters)\n",
    "plot_model(kmeans_best, plot = 'distribution')"
   ]
  },
  {
   "cell_type": "code",
   "execution_count": null,
   "id": "f6a2210f",
   "metadata": {},
   "outputs": [],
   "source": [
    "# using evaluating moethod, includes all graphs above with interactive component\n",
    "evaluate_model(kmeans_best)"
   ]
  },
  {
   "cell_type": "code",
   "execution_count": null,
   "id": "763d870f",
   "metadata": {},
   "outputs": [],
   "source": [
    "### Assigning Clusters"
   ]
  },
  {
   "cell_type": "code",
   "execution_count": null,
   "id": "7a0e744b",
   "metadata": {},
   "outputs": [],
   "source": [
    "# Assigning clusters to the data\n",
    "kmeans_cluster = assign_model(kmeans_best)\n",
    "kmeans_cluster"
   ]
  },
  {
   "cell_type": "code",
   "execution_count": null,
   "id": "7adb767e",
   "metadata": {},
   "outputs": [],
   "source": [
    "### Predictions"
   ]
  },
  {
   "cell_type": "code",
   "execution_count": null,
   "id": "75ed0c41",
   "metadata": {},
   "outputs": [],
   "source": [
    "# Predicting on the unseen data\n",
    "kmeans_pred = predict_model(kmeans_best, data=data_unseen)\n",
    "kmeans_pred"
   ]
  },
  {
   "cell_type": "markdown",
   "id": "57727410",
   "metadata": {},
   "source": [
    "#### simple customer segementation example\n",
    "\n",
    "One use of the clustering algorithms is for building customer profiles and performing customer segmentation analysis. This is a marketing technique that is used to separate customers and/or product into groups based on similar features/traits. The purpose of this is to get a better understanding of the values, needs and behaviours of each group, so that we can optimize out marketing techniques for them. The below is a simple example of assigning traits to each of our clusters, to get better insights on who they are."
   ]
  },
  {
   "cell_type": "code",
   "execution_count": null,
   "id": "2f804c57",
   "metadata": {},
   "outputs": [],
   "source": [
    "# looking at average of each column for each customer to make profiles\n",
    "avg_data=kmeans_cluster.groupby(['Cluster'],as_index=True).mean()\n",
    "print(avg_data)"
   ]
  },
  {
   "cell_type": "markdown",
   "id": "4c3ae5a1",
   "metadata": {},
   "source": [
    "We can apply trains or re-name the clusters to help us with curating marketing plans to each group. For example, we can call each clusters the below:\n",
    "\n",
    "- Cluster 0: \"Savvy Savers\" - Young with moderate income ans savings. Don't spend a lot, maybe saving for a home\n",
    "- Cluster 1: \"Active Spenders\" - Older with moderate income. more willing to spend and save less. might enjoy traveling\n",
    "- Cluster 2: \"Wise Planners\" - Elderly with low income. Thrify and big savers, likely retired and only spend as needed\n",
    "- Cluster 3: \"Upcoming IG Influencers\" - Young with high income. Prioritize spending vs saving (gotta spend $$$ for followers)\n",
    "- Cluster 4: \"Penny Pinchers\" - Elderly with high income and low spending. Maybe business owners/are rich, hesitate to spend money unless needed."
   ]
  },
  {
   "cell_type": "code",
   "execution_count": null,
   "id": "91e68474",
   "metadata": {},
   "outputs": [],
   "source": [
    "### Saving/loading the model"
   ]
  },
  {
   "cell_type": "code",
   "execution_count": null,
   "id": "67694862",
   "metadata": {},
   "outputs": [],
   "source": [
    "# Saving the model\n",
    "save_model(kmeans_best, 'kmeans_pipeline')"
   ]
  },
  {
   "cell_type": "code",
   "execution_count": null,
   "id": "2bd0e863",
   "metadata": {},
   "outputs": [],
   "source": [
    "# Loading the model\n",
    "loaded_model= load_model('kmeans_pipeline')\n",
    "print(loaded_model)"
   ]
  },
  {
   "cell_type": "code",
   "execution_count": null,
   "id": "528ace34",
   "metadata": {},
   "outputs": [],
   "source": []
  }
 ],
 "metadata": {
  "kernelspec": {
   "display_name": "Python 3 (ipykernel)",
   "language": "python",
   "name": "python3"
  },
  "language_info": {
   "codemirror_mode": {
    "name": "ipython",
    "version": 3
   },
   "file_extension": ".py",
   "mimetype": "text/x-python",
   "name": "python",
   "nbconvert_exporter": "python",
   "pygments_lexer": "ipython3",
   "version": "3.11.5"
  }
 },
 "nbformat": 4,
 "nbformat_minor": 5
}
