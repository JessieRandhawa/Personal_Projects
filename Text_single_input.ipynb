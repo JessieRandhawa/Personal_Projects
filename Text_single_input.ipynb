{
 "cells": [
  {
   "cell_type": "code",
   "execution_count": null,
   "id": "94c000f6",
   "metadata": {},
   "outputs": [],
   "source": [
    "import unicodedata\n",
    "\n",
    "test=article.text\n",
    "\n",
    "#function to normalize non ascii\n",
    "def normalize_non_ascii(text):\n",
    "    text = unicodedata.normalize(\"NFKD\", text)\n",
    "    return text\n",
    "\n",
    "clean_text = normalize_non_ascii(text)\n",
    "print(clean_text)"
   ]
  },
  {
   "cell_type": "code",
   "execution_count": null,
   "id": "e63664f2",
   "metadata": {},
   "outputs": [],
   "source": [
    "#remove contractions\n",
    "\n",
    "import contractions\n",
    "\n",
    "#remove contractions\n",
    "clean_text = contractions.fix(clean_text)\n",
    "\n",
    "print(clean_text)"
   ]
  },
  {
   "cell_type": "code",
   "execution_count": null,
   "id": "e0e02568",
   "metadata": {},
   "outputs": [],
   "source": [
    "# lowercase everything\n",
    "clean_text = clean_text.lower()\n",
    "print(clean_text)"
   ]
  },
  {
   "cell_type": "code",
   "execution_count": null,
   "id": "f9b6cd19",
   "metadata": {},
   "outputs": [],
   "source": [
    "# remove accents\n",
    "def remove_accents(clean_text):\n",
    "    text=unicodedata.normalize('NFD', text).encode('ascii', 'ignore').decode(\"utf-8\")\n",
    "    return text\n",
    "\n",
    "clean_text = remove_accents(clean_text)\n",
    "print(clean_text)"
   ]
  },
  {
   "cell_type": "code",
   "execution_count": null,
   "id": "53c177e6",
   "metadata": {},
   "outputs": [],
   "source": [
    "#pysummarization\n",
    "\n",
    "from pysummarization.nlpbase.auto_abstractor import AutoAbstractor\n",
    "from pysummarization.tokenizabledoc.simple_tokenizer import SimpleTokenizer\n",
    "from pysummarization.abstractabledoc.top_n_rank_abstractor import TopNRankAbstractor\n",
    "\n",
    "document = clean_text"
   ]
  },
  {
   "cell_type": "code",
   "execution_count": null,
   "id": "cc7815c2",
   "metadata": {},
   "outputs": [],
   "source": [
    "#object of auto summarization\n",
    "auto_abstractor = AutoAbstractor()\n",
    "\n",
    "#set tokenizer\n",
    "auto_abstractor.tokenizable_doc = SimpleTokenizer()\n",
    "\n",
    "#Set delimiter for making a list of sentence\n",
    "auto_abstractor.delimiter_list = [\".\",\"\\n\"]\n",
    "\n",
    "#object of abstracting and filtering document\n",
    "abstractable_doc = TopNRankAbstractor()\n",
    "\n",
    "#summarize document\n",
    "result_dict = auto_abstractor.summarize(document,abstractable_doc)\n",
    "\n",
    "#output result\n",
    "for sentence in result_dict[\"summarize_result\"]:\n",
    "    print(sentence)"
   ]
  },
  {
   "cell_type": "code",
   "execution_count": null,
   "id": "0fbd6e04",
   "metadata": {},
   "outputs": [],
   "source": [
    "#further cleaning\n",
    "\n",
    "#remove punctuation for tokenizing\n",
    "import re\n",
    "from string import punctuation\n",
    "def remove_punctuation(text):\n",
    "    text = re.sub('[%s]' % re.escape(punctuation), '', text)\n",
    "    return text\n",
    "clean_text = remove_punctuation(clean_text)\n",
    "\n",
    "#tokenization\n",
    "from mltk.tokenize import word_tokenize\n",
    "tokens = word_tokenize(clean_text)\n",
    "\n",
    "#stop word removal\n",
    "from nltk.corpus import stopwords\n",
    "#nltk.download('stopwords')\n",
    "\n",
    "remove_sw = [word for word in tokens if not word in stopwords.words()]\n",
    "\n",
    "#became list, convert to string\n",
    "clean_text = ' '.join(remove_sw)\n",
    "print(clean_text)"
   ]
  },
  {
   "cell_type": "code",
   "execution_count": null,
   "id": "4b415b06",
   "metadata": {},
   "outputs": [],
   "source": [
    "# lemmatize\n",
    "nltk.download('wordnet')\n",
    "from nltk.stem import WordNetLemmatizer\n",
    "lemmatizer = WordNetLemmatizer()\n",
    "\n",
    "#lemmatize each word in string\n",
    "lemmatized_text = ' '.join(lemmatizer.lemmatize(word) for word in word_tokenize(clean_text))\n",
    "\n",
    "print(lemmatized_text)"
   ]
  },
  {
   "cell_type": "code",
   "execution_count": null,
   "id": "0e85c384",
   "metadata": {},
   "outputs": [],
   "source": []
  },
  {
   "cell_type": "code",
   "execution_count": null,
   "id": "86a83be7",
   "metadata": {},
   "outputs": [],
   "source": []
  },
  {
   "cell_type": "code",
   "execution_count": null,
   "id": "db7640a4",
   "metadata": {},
   "outputs": [],
   "source": []
  }
 ],
 "metadata": {
  "kernelspec": {
   "display_name": "Python 3 (ipykernel)",
   "language": "python",
   "name": "python3"
  },
  "language_info": {
   "codemirror_mode": {
    "name": "ipython",
    "version": 3
   },
   "file_extension": ".py",
   "mimetype": "text/x-python",
   "name": "python",
   "nbconvert_exporter": "python",
   "pygments_lexer": "ipython3",
   "version": "3.11.5"
  }
 },
 "nbformat": 4,
 "nbformat_minor": 5
}
